{
 "cells": [
  {
   "cell_type": "code",
   "execution_count": 344,
   "id": "013ed4d8-4d88-44af-82b1-e660d225ff1f",
   "metadata": {},
   "outputs": [],
   "source": [
    "import pandas as pd\n",
    "import numpy as np\n",
    "\n",
    "import streamlit as st\n",
    "from datetime import datetime, time, date \n"
   ]
  },
  {
   "cell_type": "markdown",
   "id": "be942d9c-75e7-44a8-a4a3-262391a9d107",
   "metadata": {},
   "source": [
    "## 1. Cargar Data"
   ]
  },
  {
   "cell_type": "markdown",
   "id": "e6dd5a5a-8c47-4a79-8576-7dc22c5595b1",
   "metadata": {},
   "source": [
    "# Definir ruta del Archivo\n",
    "ruta_archivo = r'dataset\\VISOR_AYUDAS_DX_V4-CONDICIONES.xlsm'"
   ]
  },
  {
   "cell_type": "code",
   "execution_count": 359,
   "id": "bf778e46-5ccd-491b-be12-b9cd5809a53a",
   "metadata": {},
   "outputs": [],
   "source": [
    "# Cargar tanto CITAS como DISP_EQUIPO\n",
    "def cargar_datos(ruta, nombre_hoja, columnas):\n",
    "    df = pd.read_excel(ruta, \n",
    "            sheet_name= nombre_hoja, \n",
    "            usecols= columnas)\n",
    "    return df"
   ]
  },
  {
   "cell_type": "markdown",
   "id": "c328bc03-4744-456e-a396-1b55318914ae",
   "metadata": {},
   "source": [
    "df = cargar_datos(ruta_archivo, \n",
    "                    nombre_hoja='CITAS', \n",
    "                        columnas='A:H')\n",
    "\n",
    "df_original_equipos = cargar_datos(ruta_archivo, \n",
    "                                    nombre_hoja='DISP_EQUIPO', \n",
    "                                    columnas='A:F')"
   ]
  },
  {
   "cell_type": "markdown",
   "id": "7f1b9782-25bb-4a99-af71-b9f577c607ee",
   "metadata": {},
   "source": [
    "## 2. Pre-procesamiento de datos"
   ]
  },
  {
   "cell_type": "markdown",
   "id": "b5463656-aaf2-4f5f-b847-71c69d54ecb3",
   "metadata": {},
   "source": [
    "### 2.1 Pre-procesamiento de datos de citas"
   ]
  },
  {
   "cell_type": "code",
   "execution_count": 161,
   "id": "cf178520-3f7c-4e8a-ba7d-f624d68d9e5d",
   "metadata": {},
   "outputs": [],
   "source": [
    "def preprocesamiento_datos_citas(df_original_citas):\n",
    "    # Generar copia de trabajo\n",
    "    df = df_original_citas.copy()\n",
    "\n",
    "    # Cambiar formato de columna 'FECHA' a datetime format\n",
    "    df['FECHA'] = pd.to_datetime(df['FECHA'])\n",
    "\n",
    "    # Combinar 'FECHA' y 'HORA' para crear 'Start' - Hora de inicio\n",
    "    df['Start'] = pd.to_datetime(df['FECHA'].dt.strftime('%d-%m-%y') + ' ' + df['HORA'], format='%d-%m-%y %H:%M')\n",
    "\n",
    "    # Crea una nueva columna 'Finish' sumando DURACION con Start\n",
    "    df['DURACION'] = pd.to_timedelta(df['DURACION'] + ':00')\n",
    "    df['Finish'] = df['Start'] + df['DURACION']\n",
    "\n",
    "    # Extraer tipo de dia de la semana y mes desde el indice\n",
    "    df['DIA_SEM'] = df['FECHA'].dt.weekday\n",
    "    df['MES_AÑO'] = df['FECHA'].dt.strftime('%m-%Y')\n",
    "\n",
    "    # Crear y rellenar una nueva columna 'DOC_DISPONIBLE' con el texto: 'CITA AGENDADA'\n",
    "    df['DOC_DISPONIBLE'] = 'CITA AGENDADA'\n",
    "\n",
    "    # Mostrar Fecha Maxima y Minima\n",
    "    st.write(\"Fecha minima:\", df['Start'].min())\n",
    "    st.write(\"Fecha Maxima:\", df['Start'].max())\n",
    "\n",
    "    return df\n",
    "\n",
    "\n"
   ]
  },
  {
   "cell_type": "code",
   "execution_count": 348,
   "id": "3192ba3f-3105-429c-8a2a-948dd592cefc",
   "metadata": {},
   "outputs": [],
   "source": [
    "#df = preprocesamiento_datos_citas(df_original_citas)"
   ]
  },
  {
   "cell_type": "markdown",
   "id": "b5c7e6ad-282f-4164-92ad-2531eb7356f6",
   "metadata": {},
   "source": [
    "### 2.2. Pre-procesamiento de datos de disponibilidad"
   ]
  },
  {
   "cell_type": "code",
   "execution_count": 163,
   "id": "fc35b4cf-1f65-487b-a19e-ff6dc3e04b89",
   "metadata": {},
   "outputs": [],
   "source": [
    "def preprocesamiento_datos_disponibilidad(df_original_equipos):\n",
    "    \n",
    "    # Generar copia de trabajo\n",
    "    df_equipos = df_original_equipos.copy()\n",
    "    \n",
    "    # Cambiar Numero de dia a formato Python: 0: Lunes, 1: Martes, 2: Miercoles, 3: Jueves, 4: Viernes, 5: Sabado, 5: Domingo\n",
    "    mapa_dia = {1: 0, 2: 1, 3: 2, 4: 3, 5: 4, 6: 5}\n",
    "    df_equipos['DIA'] = df_equipos['DIA'].map(mapa_dia)\n",
    "\n",
    "    # Asignar texto 'Sin Doctor Asignado' cuando haya disponibilidad del equipo pero sin doctor asignado\n",
    "    df_equipos['DOC_DISPONIBLE'] = df_equipos['DOC_DISPONIBLE'].fillna('Sin Doctor Asignado')\n",
    "    \n",
    "    # Convertir formato hora a str para posterior manipulacion\n",
    "    df_equipos['HORA INICIO'] = df_equipos['HORA INICIO'].astype(str)\n",
    "    df_equipos['HORA FIN'] = df_equipos['HORA FIN'].astype(str)\n",
    "    \n",
    "    # Combinar 'DIA' y 'HORA INICIO'/'HORA FIN' para crear info completa de fecha con el tipo de dia\n",
    "    df_equipos['Start'] = pd.to_datetime(df_equipos['DIA'].astype(str) + ' ' + df_equipos['HORA INICIO'], format='%w %H:%M:%S')\n",
    "    df_equipos['Finish'] = pd.to_datetime(df_equipos['DIA'].astype(str) + ' ' + df_equipos['HORA FIN'], format='%w %H:%M:%S')\n",
    "\n",
    "    return df_equipos"
   ]
  },
  {
   "cell_type": "code",
   "execution_count": 349,
   "id": "381aeb00-78c8-497b-b284-3e5fc8f9fe3d",
   "metadata": {},
   "outputs": [],
   "source": [
    "#df_equipos = preprocesamiento_datos_disponibilidad(df_original_equipos)\n"
   ]
  },
  {
   "cell_type": "markdown",
   "id": "cba887c7-de48-460d-8a53-fe9d770834b3",
   "metadata": {},
   "source": [
    "### 2.3. Completar df_equipos con programacion semanal"
   ]
  },
  {
   "cell_type": "code",
   "execution_count": 211,
   "id": "a9b9f2a2-e275-45f0-bb8b-a0ad94741e31",
   "metadata": {},
   "outputs": [],
   "source": [
    "#fecha_especifica = pd.to_datetime('2024-08-09')#.date()"
   ]
  },
  {
   "cell_type": "code",
   "execution_count": 213,
   "id": "b2f98e9e-d6c8-41e2-a073-8041fd8fc685",
   "metadata": {},
   "outputs": [],
   "source": [
    "def construir_programacion_completa(fecha_especifica, df, df_equipos):\n",
    "    # Filtrar por mes-año a revisar\n",
    "    df_prueba = df[df['FECHA'] == fecha_especifica]\n",
    "\n",
    "    # Extraer Fechas unicas en el mes seleccionado\n",
    "    unique_dates = df_prueba['FECHA'].unique()\n",
    "    new_rows = []\n",
    "\n",
    "    # Iterar por cada fecha única\n",
    "    for date in unique_dates:\n",
    "        for idx, row in df_equipos.iterrows():\n",
    "            start_time = datetime.strptime(row['HORA INICIO'], '%H:%M:%S').time()\n",
    "            end_time = datetime.strptime(row['HORA FIN'], '%H:%M:%S').time()\n",
    "            \n",
    "            start_datetime = pd.Timestamp(date) + pd.Timedelta(hours=start_time.hour, minutes=start_time.minute)\n",
    "            end_datetime = pd.Timestamp(date) + pd.Timedelta(hours=end_time.hour, minutes=end_time.minute)\n",
    "            \n",
    "            # Chequear si el dia coincide\n",
    "            if row['DIA'] == start_datetime.dayofweek:\n",
    "                # Crear nueva fila con hora de inicio y fin\n",
    "                new_row = {\n",
    "                    'EQUIPO': row['EQUIPO'],\n",
    "                    'DIA': row['DIA'],\n",
    "                    'HORA INICIO': row['HORA INICIO'],\n",
    "                    'HORA FIN': row['HORA FIN'],\n",
    "                    'DOC_DISPONIBLE': row['DOC_DISPONIBLE'],\n",
    "                    'TIPO PACIENTE': row['TIPO PACIENTE'],\n",
    "                    'Start': start_datetime,\n",
    "                    'Finish': end_datetime\n",
    "                }\n",
    "                new_rows.append(new_row)\n",
    "    \n",
    "    # Crear Data Frame con nuevas filas\n",
    "    new_df_equipos = pd.DataFrame(new_rows)\n",
    "        \n",
    "    # Concatenar las nuevas filas con el df original de equipos\n",
    "    df_equipos = pd.concat([df_equipos, new_df_equipos], ignore_index=True)\n",
    "    \n",
    "    # Eliminar fechas creadas con año 1900\n",
    "    df_equipos = df_equipos[df_equipos['Start'].dt.year != 1900]\n",
    "    \n",
    "    # Mostrar df_equipos actualizado\n",
    "    df_equipos = df_equipos.dropna(subset=['Start'])\n",
    "    \n",
    "    # Renombrar columnas para estandarizar con df citas\n",
    "    df_equipos = df_equipos.rename(columns={'EQUIPO': 'RECURSO', 'DIA': 'DIA_SEM'})\n",
    "    \n",
    "    return df_equipos, df_prueba"
   ]
  },
  {
   "cell_type": "code",
   "execution_count": 214,
   "id": "92f78333-9ea0-4039-8412-4e6f1fb60d81",
   "metadata": {},
   "outputs": [],
   "source": [
    "#df_equipos, df_prueba = construir_programacion_completa(fecha_especifica, df, df_equipos)"
   ]
  },
  {
   "cell_type": "markdown",
   "id": "95cfe314-72ba-40f1-b0ff-a9eb205f9990",
   "metadata": {},
   "source": [
    "### 2.4 Pre-procesamiento de datos final"
   ]
  },
  {
   "cell_type": "code",
   "execution_count": 216,
   "id": "9516c48e-7854-4134-b733-0931381e4333",
   "metadata": {},
   "outputs": [],
   "source": [
    "def preprocesamiento_datos_final(df_equipos, df_prueba):\n",
    "\n",
    "    # Eliminar columnas redundantes\n",
    "    df_equipos_concatenar = df_equipos.drop(columns = {'HORA INICIO','HORA FIN','TIPO PACIENTE'}).copy()\n",
    "\n",
    "    # Rellenar Cita con texto 'DISP_EQUIPO'\n",
    "    df_equipos_concatenar['CITA'] = 'DISP_EQUIPO'\n",
    "\n",
    "    # Extraer solo Fecha de 'Start'\n",
    "    df_equipos_concatenar['FECHA'] = df_equipos_concatenar['Start'].dt.date\n",
    "\n",
    "    # Extraer solo mes-año de 'Start'\n",
    "    df_equipos_concatenar['MES_AÑO'] = df_equipos_concatenar['Start'].dt.strftime('%m-%Y')\n",
    "        \n",
    "    # Extraer y formatear Hora de 'Start'\n",
    "    df_equipos_concatenar['HORA'] = df_equipos_concatenar['Start'].dt.strftime('%H:%M')\n",
    "\n",
    "    # Crear Columna de duracion restando Finish con Start\n",
    "    df_equipos_concatenar['DURACION'] = (df_equipos_concatenar['Finish'] - df_equipos_concatenar['Start'])\n",
    "\n",
    "    # Aplicar Formato hora a Duración\n",
    "    df_equipos_concatenar['DURACION'] = df_equipos_concatenar['DURACION'].apply(lambda x: f\"{x.components.hours:02}:{x.components.minutes:02}\")\n",
    "    \n",
    "    # Rellenar plan con Nan\n",
    "    df_equipos_concatenar['PLAN'] = np.NaN\n",
    "    \n",
    "    # Rellenar Examen con Nan\n",
    "    df_equipos_concatenar['EXAMEN'] = np.NaN\n",
    "    \n",
    "    # Rellenar Sede con Nan\n",
    "    df_equipos_concatenar['SEDE'] = np.NaN\n",
    "    \n",
    "    # Capturar orden de las columnas en df_prueba\n",
    "    orden_columnas = df_prueba.columns\n",
    "\n",
    "    # Aplicar el mismo orden de las columnas par apoder concatenar\n",
    "    df_equipos_concatenar = df_equipos_concatenar[orden_columnas]\n",
    "\n",
    "    # Crear df consolidada de programación\n",
    "    df_completa = pd.concat([df_prueba, df_equipos_concatenar], ignore_index=True)\n",
    "\n",
    "    return df_completa"
   ]
  },
  {
   "cell_type": "code",
   "execution_count": 242,
   "id": "e7a8f3ef-199f-476f-8114-df9d9b01fcce",
   "metadata": {},
   "outputs": [],
   "source": [
    "def creacion_horario(df_completa, selected_resouces):\n",
    "    df_completa_filtro = df_completa[df_completa['RECURSO'].isin(selected_resouces)].copy()\n",
    "    \n",
    "    start_date = df_completa_filtro['Start'].min()\n",
    "    end_date = df_completa_filtro['Finish'].max()\n",
    "    \n",
    "    datetime_range = pd.date_range(start=start_date, end=end_date, freq='5min')\n",
    "    filtered_datetime_range = datetime_range[\n",
    "        (datetime_range.hour >= 6) & (datetime_range.hour < 20)]\n",
    "    \n",
    "    df_schedule = pd.DataFrame(index=filtered_datetime_range)\n",
    "    \n",
    "    # Agregar columnas para cada recurso\n",
    "    for recurso in df_completa_filtro['RECURSO'].unique():\n",
    "        df_schedule[f'AGENDA PARA_{recurso}'] = 0\n",
    "    \n",
    "    for recurso in df_completa_filtro['RECURSO'].unique():\n",
    "        df_schedule[f'AGENDA PARA_{recurso}'] = df_schedule[f'AGENDA PARA_{recurso}'].astype(object)\n",
    "        for index, row in df_completa_filtro[df_completa_filtro['RECURSO'] == recurso].iterrows():\n",
    "            for timestamp in pd.date_range(start=row['Start'], end=row['Finish']-pd.Timedelta(minutes=1), freq='5min'):\n",
    "            \n",
    "                current_value = df_schedule.loc[timestamp, f'AGENDA PARA_{recurso}']\n",
    "                new_value = np.where(\n",
    "                    row['DOC_DISPONIBLE'] == 'Sin Doctor Asignado', 'Disponible',\n",
    "                    np.where(row['DOC_DISPONIBLE'] != 'CITA AGENDADA' and row['DOC_DISPONIBLE'] != 'Sin Doctor Asignado', row['DOC_DISPONIBLE'],\n",
    "                             np.where(row['DOC_DISPONIBLE'] == 'CITA AGENDADA', row['DOC_DISPONIBLE'], 0))\n",
    "                )\n",
    "    \n",
    "                if current_value != 'CITA AGENDADA':\n",
    "                    df_schedule.loc[timestamp, f'AGENDA PARA_{recurso}'] = new_value\n",
    "    df_schedule.insert(0, 'HORA', df_schedule.index.strftime('%H:%M'))\n",
    "    for col in df_schedule.columns:\n",
    "        if col != 'HORA':\n",
    "            df_schedule[col] = df_schedule.apply(lambda row: f\"{row[col]} {row['HORA']}\" if row[col] != 0 else 0, axis=1)\n",
    "    \n",
    "    \n",
    "    return df_schedule\n"
   ]
  },
  {
   "cell_type": "code",
   "execution_count": 350,
   "id": "35b6242c-70f7-4837-8c67-382b2246a246",
   "metadata": {},
   "outputs": [],
   "source": [
    "# Define a function to apply styles\n",
    "def apply_styles(val):\n",
    "    if isinstance(val, str) and val.startswith(\"Disponible\"):\n",
    "        return \"background-color: lightgray; color: black\"\n",
    "    elif isinstance(val, str) and val.startswith(\"CITA AGENDADA\"):\n",
    "        return \"background-color: black; color: white\"\n",
    "    elif val == 0 or val == \"0\":\n",
    "        return \"background-color: white; color: white\"\n",
    "    else:\n",
    "        return \"background-color: lightblue; color: black\"\n",
    "\n",
    "def style_hora_column(val):\n",
    "    return \"background-color: gray; color: white\"\n"
   ]
  },
  {
   "cell_type": "code",
   "execution_count": 361,
   "id": "8f734d04-6865-4df3-bed3-a2ee0ee637d0",
   "metadata": {},
   "outputs": [],
   "source": [
    "def aplicar_formato(df_schedule):\n",
    "    # Apply the styles using Styler\n",
    "    columns_to_style = df_schedule.columns.difference(['HORA'])\n",
    "    styled_df = df_schedule.style.map(apply_styles, subset= columns_to_style)\n",
    "    styled_df = styled_df.map(style_hora_column, subset=['HORA'])\n",
    "    \n",
    "    # Style the header and hide the index\n",
    "    styled_df = styled_df.set_table_styles(\n",
    "        [\n",
    "            {'selector': 'th', 'props': [('background-color', 'gray'), ('color', 'white'), ('text-align', 'center')]},\n",
    "            {'selector': 'td', 'props': [('text-align', 'center')]}  # Add this line to center text in cells\n",
    "        ]\n",
    "    ).hide(axis=\"index\")\n",
    "    \n",
    "    # Display the styled DataFrame\n",
    "    return styled_df"
   ]
  },
  {
   "cell_type": "markdown",
   "id": "7a4a1ed3-1d63-4679-bcfa-a1037abb6c28",
   "metadata": {},
   "source": [
    "df = preprocesamiento_datos_citas(df_original_citas)\n",
    "df_equipos = preprocesamiento_datos_disponibilidad(df_original_equipos)\n",
    "\n",
    "fecha_especifica = pd.to_datetime('2024-08-10')\n",
    "df_equipos, df_prueba = construir_programacion_completa(fecha_especifica, df, df_equipos)\n",
    "df_completa = preprocesamiento_datos_final(df_equipos, df_prueba)\n",
    "\n",
    "selected_resouces = ['OCT CIRRUS', 'ECOGRAFO', 'PAQUIMETRO', 'OCT SOLIX']\n",
    "df_schedule = creacion_horario(df_completa, selected_resouces)\n",
    "styled_df = aplicar_formato(df_schedule)\n",
    "styled_df"
   ]
  },
  {
   "cell_type": "code",
   "execution_count": null,
   "id": "26b0586d-7a7b-495e-b048-e6f9dd51b367",
   "metadata": {},
   "outputs": [],
   "source": [
    "st.title(\"Programación de Citas Clofan\")\n",
    "\n",
    "# File uploader widget\n",
    "archivo_cargado = st.file_uploader(\"Cargar archivo Excel\", type=['xlsx', 'xls', 'xlsm'])\n",
    "\n",
    "if archivo_cargado is not None:\n",
    "    # Read the uploaded Excel file\n",
    "        \n",
    "    df_original_citas = cargar_datos(archivo_cargado, \n",
    "                                     nombre_hoja='CITAS', \n",
    "                                     columnas='A:H')\n",
    "\n",
    "    df_original_equipos = cargar_datos(archivo_cargado, \n",
    "                                     nombre_hoja='DISP_EQUIPO', \n",
    "                                     columnas='A:F')\n",
    "    \n",
    "    df = preprocesamiento_datos_citas(df_original_citas)\n",
    "    df_equipos = preprocesamiento_datos_disponibilidad(df_original_equipos)\n",
    "    \n",
    "    today = date.today()\n",
    "    fecha_especifica = st.date_input(\"Seleccione una Fecha\", today)\n",
    "    fecha_especifica = pd.Timestamp(fecha_especifica)\n",
    "    st.session_state.fecha_especifica = fecha_especifica\n",
    "    df_equipos, df_prueba = construir_programacion_completa(fecha_especifica, df, df_equipos)\n",
    "    df_completa = preprocesamiento_datos_final(df_equipos, df_prueba)\n",
    "    st.session_state.df_completa = df_completa\n",
    "    unique_resources = df_completa['RECURSO'].unique()\n",
    "\n",
    "    # Multiselect widget for resources\n",
    "    selected_resources = st.multiselect(\n",
    "        \"Select Resources\",\n",
    "        options=unique_resources,\n",
    "        default=[unique_resources[0]]  # Default to the first option\n",
    "    )\n",
    "    st.session_state.selected_resources = selected_resources\n",
    "    # Uncheck all option\n",
    "    if st.button(\"Uncheck All\"):\n",
    "        st.session_state.selected_resources = [unique_resources[0]]\n",
    "\n",
    "    # Filter the DataFrame based on selected resources\n",
    "    df_schedule = creacion_horario(st.session_state.df_completa, st.session_state.selected_resources)\n",
    "    styled_df = aplicar_formato(df_schedule)\n",
    "\n",
    "    styled_html = styled_df.to_html(escape=False)\n",
    "\n",
    "    # Display in Streamlit\n",
    "    st.write('Agenda para:', fecha_especifica)\n",
    "    st.dataframe(styled_df, hide_index=True, height=600)\n",
    "    #st.write(styled_html, unsafe_allow_html=True)\n",
    "   \n",
    "else:\n",
    "    st.write(\"Por favor cargue el archivo de Programacion y Disponibilidad de Equipos\")"
   ]
  },
  {
   "cell_type": "code",
   "execution_count": null,
   "id": "2feae14a-a28f-4572-bbf0-cef9f0e5d0bc",
   "metadata": {},
   "outputs": [],
   "source": []
  }
 ],
 "metadata": {
  "kernelspec": {
   "display_name": "Python 3 (ipykernel)",
   "language": "python",
   "name": "python3"
  },
  "language_info": {
   "codemirror_mode": {
    "name": "ipython",
    "version": 3
   },
   "file_extension": ".py",
   "mimetype": "text/x-python",
   "name": "python",
   "nbconvert_exporter": "python",
   "pygments_lexer": "ipython3",
   "version": "3.11.9"
  }
 },
 "nbformat": 4,
 "nbformat_minor": 5
}
